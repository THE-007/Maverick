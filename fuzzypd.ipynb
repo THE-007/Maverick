{
 "cells": [
  {
   "cell_type": "code",
   "execution_count": 2,
   "metadata": {},
   "outputs": [],
   "source": [
    "import csv\n",
    "import os\n",
    "import shutil\n",
    "import pandas as pd\n",
    "import numpy\n",
    "from fuzzywuzzy import fuzz\n",
    "from fuzzywuzzy import process"
   ]
  },
  {
   "cell_type": "code",
   "execution_count": 3,
   "metadata": {},
   "outputs": [],
   "source": [
    "\n",
    "# Define data path\n",
    "Data_Path = 'fuzzy_csv'\n",
    "Fuzzy_data_files = ['Clubs_data.csv','Organisers_In_Fests.csv','Participants_In_Fests.csv']\n",
    "Original_Metadata = pd.read_csv('Metadata.csv')\n",
    "#fclub_df = pd.read_csv('Clubs_data.csv')\n",
    "Dictionary_Fuzzified_PD={}\n",
    "Dictionary_Defuzzified_PD={}\n",
    "for i in Fuzzy_data_files:\n",
    "    File_path = Data_Path+'/'+i\n",
    "    Iterating_FDF = pd.read_csv(File_path)\n",
    "    Dictionary_Fuzzified_PD[i] = Iterating_FDF\n",
    "    Dictionary_Defuzzified_PD[i] = Iterating_FDF\n",
    "    \n",
    "#len(fclub_df['Name'])"
   ]
  },
  {
   "cell_type": "code",
   "execution_count": 4,
   "metadata": {},
   "outputs": [],
   "source": [
    "def Defuzzify(Fuzzy_dataframe,Metadata):\n",
    "    Length = len(Fuzzy_dataframe['Name'])\n",
    "    for i in range(Length):\n",
    "        print(Fuzzy_dataframe['Name'][i],end=' # ')\n",
    "        Metaname= process.extractOne(Fuzzy_dataframe['Name'][i], Metadata['Name'])[0]\n",
    "        Fuzzy_dataframe['Name'][i] = Metaname\n",
    "        print(Fuzzy_dataframe['Name'][i])\n",
    "    return Fuzzy_dataframe\n",
    "\n"
   ]
  },
  {
   "cell_type": "code",
   "execution_count": 5,
   "metadata": {},
   "outputs": [
    {
     "data": {
      "text/plain": [
       "0             Darien Ma\n",
       "1          Sege Schrock\n",
       "2            Alison bci\n",
       "3        kiara jauregui\n",
       "4             Tete Buim\n",
       "             ...       \n",
       "1041            Kalen L\n",
       "1042     Kthrine Leeone\n",
       "1043        IbrehimuSku\n",
       "1044    Mildlo Ganfield\n",
       "1045          Dehba Yon\n",
       "Name: Name, Length: 1046, dtype: object"
      ]
     },
     "execution_count": 5,
     "metadata": {},
     "output_type": "execute_result"
    }
   ],
   "source": [
    "Dictionary_Defuzzified_PD['Clubs_data.csv']['Name']"
   ]
  },
  {
   "cell_type": "code",
   "execution_count": null,
   "metadata": {},
   "outputs": [],
   "source": [
    "for i in Dictionary_Fuzzified_PD:\n",
    "    Dictionary_Defuzzified_PD[i] = Defuzzify(Dictionary_Fuzzified_PD[i].copy(),Original_Metadata)"
   ]
  },
  {
   "cell_type": "code",
   "execution_count": 17,
   "metadata": {},
   "outputs": [
    {
     "name": "stdout",
     "output_type": "stream",
     "text": [
      "0        Darien Martens\n",
      "1          Sage Schrock\n",
      "2          Alison Mcvey\n",
      "3        Kiara Jauregui\n",
      "4             Tate Blum\n",
      "             ...       \n",
      "1041        Kalen Logan\n",
      "1042     Kathrine Leone\n",
      "1043        Ibrahim Sun\n",
      "1044    Milo Greenfield\n",
      "1045        Daisha Yoon\n",
      "Name: Name, Length: 1046, dtype: object\n",
      "0          Starr Hammond\n",
      "1            Aylin Seals\n",
      "2      Sebastien Hickman\n",
      "3       Gretchen Clawson\n",
      "4         Evelin Bradley\n",
      "5     Delanie Gilbertson\n",
      "6        River Feliciano\n",
      "7           Leona Cabral\n",
      "8            Aya Kennedy\n",
      "9         Abdullah Horst\n",
      "10       Stephon Burnett\n",
      "11        Perry Perryman\n",
      "12           Daria Daily\n",
      "13         Malika Garber\n",
      "14             Jordi Tam\n",
      "15         Amaiya Solano\n",
      "16      Rashawn Balderas\n",
      "17       Blaine Mckenzie\n",
      "18        Ashanti Koenig\n",
      "19        Zoie McDermott\n",
      "Name: Name, dtype: object\n",
      "0          Jayna Rowley\n",
      "1          Candy Duenas\n",
      "2        Jaquelin Duran\n",
      "3       Kaliyah Hidalgo\n",
      "4           Elaine Sell\n",
      "             ...       \n",
      "4764    Candace Barkley\n",
      "4765    Debra Clevenger\n",
      "4766      Theron Stroud\n",
      "4767      Amber Rudolph\n",
      "4768      Jadon Vandyke\n",
      "Name: Name, Length: 4769, dtype: object\n"
     ]
    }
   ],
   "source": [
    "for i in Dictionary_Fuzzified_PD:\n",
    "    print(Dictionary_Defuzzified_PD[i]['Name'])"
   ]
  },
  {
   "cell_type": "code",
   "execution_count": 21,
   "metadata": {},
   "outputs": [],
   "source": [
    "Defuzzy_Path = 'defuzzy_csv'\n",
    "shutil.rmtree(Defuzzy_Path,ignore_errors=True)   \n",
    "os.makedirs(Defuzzy_Path) \n",
    "for i in Dictionary_Defuzzified_PD:\n",
    "    Dictionary_Defuzzified_PD[i].to_csv(Defuzzy_Path+'/'+i, index=False)"
   ]
  },
  {
   "cell_type": "code",
   "execution_count": 24,
   "metadata": {},
   "outputs": [
    {
     "name": "stdout",
     "output_type": "stream",
     "text": [
      "defuzzy_csv/Clubs_data.csv\n",
      "defuzzy_csv/Organisers_In_Fests.csv\n",
      "defuzzy_csv/Participants_In_Fests.csv\n"
     ]
    }
   ],
   "source": [
    "import pandas as pd\n",
    "#Sorting Data\n",
    "def Sorting_CSV(SourceCSV):\n",
    "    sortread = pd.read_csv(Defuzzy_Path+'/'+SourceCSV)\n",
    "    print(Defuzzy_Path+'/'+SourceCSV)\n",
    "    sortread.sort_values([\"Name\"],axis=0,ascending=[True],inplace=True)\n",
    "    sortread.to_csv(Defuzzy_Path+'/'+SourceCSV,index=False)\n",
    "\n",
    "\n",
    "Sorting_CSV(\"Clubs_data.csv\")\n",
    "Sorting_CSV(\"Organisers_In_Fests.csv\")\n",
    "Sorting_CSV(\"Participants_In_Fests.csv\")\n"
   ]
  },
  {
   "cell_type": "code",
   "execution_count": 64,
   "metadata": {},
   "outputs": [
    {
     "name": "stdout",
     "output_type": "stream",
     "text": [
      "3\n",
      "2\n"
     ]
    }
   ],
   "source": [
    "#Finding Distinct Elements\n",
    "\n",
    "DF = pd.read_csv(Defuzzy_Path+'/'+\"Clubs_data.csv\")\n",
    "Distinct_Clubs_Count = len(DF['Club_Name'].unique())\n",
    "DF = pd.read_csv(Defuzzy_Path+'/'+\"Organisers_In_Fests.csv\")\n",
    "Distinct_Fests_Count = len(DF['Fest_Name'].unique())\n",
    "\n",
    "print(Distinct_Clubs_Count)\n",
    "print(Distinct_Fests_Count)\n",
    "\n"
   ]
  },
  {
   "cell_type": "code",
   "execution_count": 66,
   "metadata": {},
   "outputs": [
    {
     "name": "stdout",
     "output_type": "stream",
     "text": [
      "1\n",
      "2\n",
      "3\n",
      "[3, 3, 3]\n"
     ]
    }
   ],
   "source": [
    "DF = pd.read_csv(Defuzzy_Path+'/'+\"Clubs_data.csv\")\n",
    "Distinct_ClubEvent_Count= []\n",
    "for i in range(1,Distinct_Clubs_Count+1):\n",
    "    print(i)\n",
    "    DF_Iterator = DF[DF['Event'].str.contains('club_'+str(i)+'_', na=False)]\n",
    "    value = len(DF_Iterator['Event'].unique())\n",
    "    Distinct_ClubEvent_Count.append(value)\n",
    "\n",
    "print(Distinct_ClubEvent_Count)\n"
   ]
  },
  {
   "cell_type": "code",
   "execution_count": 63,
   "metadata": {},
   "outputs": [
    {
     "name": "stdout",
     "output_type": "stream",
     "text": [
      "1\n",
      "2\n",
      "[13, 15]\n"
     ]
    }
   ],
   "source": [
    "DF = pd.read_csv(Defuzzy_Path+'/'+\"Participants_In_Fests.csv\")\n",
    "Distinct_FestEvent_Count= []\n",
    "for i in range(1,Distinct_Fests_Count+1):\n",
    "    print(i)\n",
    "    DF_Iterator = DF[DF['Event'].str.contains('fest_'+str(i)+'_', na=False)]\n",
    "    value = len(DF_Iterator['Event'].unique())\n",
    "    Distinct_FestEvent_Count.append(value)\n",
    "\n",
    "print(Distinct_FestEvent_Count)"
   ]
  },
  {
   "cell_type": "code",
   "execution_count": 71,
   "metadata": {},
   "outputs": [
    {
     "name": "stdout",
     "output_type": "stream",
     "text": [
      "['name', 'id', 'club1', 'club1_event1', 'club1_event2', 'club1_event3', 'club2', 'club2_event1', 'club2_event2', 'club2_event3', 'club3', 'club3_event1', 'club3_event2', 'club3_event3', 'fest1', 'fest1_event1', 'fest1_event2', 'fest1_event3', 'fest1_event4', 'fest1_event5', 'fest1_event6', 'fest1_event7', 'fest1_event8', 'fest1_event9', 'fest1_event10', 'fest1_event11', 'fest1_event12', 'fest1_event13', 'fest2', 'fest2_event1', 'fest2_event2', 'fest2_event3', 'fest2_event4', 'fest2_event5', 'fest2_event6', 'fest2_event7', 'fest2_event8', 'fest2_event9', 'fest2_event10', 'fest2_event11', 'fest2_event12', 'fest2_event13', 'fest2_event14', 'fest2_event15']\n"
     ]
    }
   ],
   "source": [
    "Header_List = []\n",
    "Header_List.append(\"name\")\n",
    "Header_List.append(\"id\")\n",
    "for i in range(Distinct_Clubs_Count):\n",
    "    Header_List.append(\"club\"+str(i+1))\n",
    "    for j in range(Distinct_ClubEvent_Count[i]):\n",
    "        Header_List.append(\"club\"+str(i+1)+\"_event\"+str(j+1))\n",
    "for i in range(Distinct_Fests_Count):\n",
    "    Header_List.append(\"fest\"+str(i+1))\n",
    "    for j in range(Distinct_FestEvent_Count[i]):\n",
    "        Header_List.append(\"fest\"+str(i+1)+\"_event\"+str(j+1))\n",
    "print(Header_List)\n",
    "\n"
   ]
  },
  {
   "cell_type": "code",
   "execution_count": 72,
   "metadata": {},
   "outputs": [],
   "source": [
    "with open('GFG', 'w') as f:\n",
    "      \n",
    "    # using csv.writer method from CSV package\n",
    "    write = csv.writer(f)\n",
    "      \n",
    "    write.writerow(Header_List)"
   ]
  },
  {
   "cell_type": "code",
   "execution_count": null,
   "metadata": {},
   "outputs": [],
   "source": []
  }
 ],
 "metadata": {
  "kernelspec": {
   "display_name": "Python 3.10.7 64-bit",
   "language": "python",
   "name": "python3"
  },
  "language_info": {
   "codemirror_mode": {
    "name": "ipython",
    "version": 3
   },
   "file_extension": ".py",
   "mimetype": "text/x-python",
   "name": "python",
   "nbconvert_exporter": "python",
   "pygments_lexer": "ipython3",
   "version": "3.10.7"
  },
  "orig_nbformat": 4,
  "vscode": {
   "interpreter": {
    "hash": "b0fa6594d8f4cbf19f97940f81e996739fb7646882a419484c72d19e05852a7e"
   }
  }
 },
 "nbformat": 4,
 "nbformat_minor": 2
}
