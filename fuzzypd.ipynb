{
 "cells": [
  {
   "cell_type": "code",
   "execution_count": 2,
   "metadata": {},
   "outputs": [],
   "source": [
    "import csv\n",
    "import os\n",
    "import shutil\n",
    "import pandas as pd\n",
    "import numpy\n",
    "from fuzzywuzzy import fuzz\n",
    "from fuzzywuzzy import process"
   ]
  },
  {
   "cell_type": "code",
   "execution_count": 3,
   "metadata": {},
   "outputs": [],
   "source": [
    "\n",
    "# Define data path\n",
    "Data_Path = 'fuzzy_csv'\n",
    "Fuzzy_data_files = ['Clubs_data.csv','Organisers_In_Fests.csv','Participants_In_Fests.csv']\n",
    "Original_Metadata = pd.read_csv('Metadata.csv')\n",
    "#fclub_df = pd.read_csv('Clubs_data.csv')\n",
    "Dictionary_Fuzzified_PD={}\n",
    "Dictionary_Defuzzified_PD={}\n",
    "for i in Fuzzy_data_files:\n",
    "    File_path = Data_Path+'/'+i\n",
    "    Iterating_FDF = pd.read_csv(File_path)\n",
    "    Dictionary_Fuzzified_PD[i] = Iterating_FDF\n",
    "    Dictionary_Defuzzified_PD[i] = Iterating_FDF\n",
    "    \n",
    "#len(fclub_df['Name'])"
   ]
  },
  {
   "cell_type": "code",
   "execution_count": 4,
   "metadata": {},
   "outputs": [],
   "source": [
    "def Defuzzify(Fuzzy_dataframe,Metadata):\n",
    "    Length = len(Fuzzy_dataframe['Name'])\n",
    "    for i in range(Length):\n",
    "        print(Fuzzy_dataframe['Name'][i],end=' # ')\n",
    "        Metaname= process.extractOne(Fuzzy_dataframe['Name'][i], Metadata['Name'])[0]\n",
    "        Fuzzy_dataframe['Name'][i] = Metaname\n",
    "        print(Fuzzy_dataframe['Name'][i])\n",
    "    return Fuzzy_dataframe\n",
    "\n"
   ]
  },
  {
   "cell_type": "code",
   "execution_count": 5,
   "metadata": {},
   "outputs": [
    {
     "data": {
      "text/plain": [
       "0             Darien Ma\n",
       "1          Sege Schrock\n",
       "2            Alison bci\n",
       "3        kiara jauregui\n",
       "4             Tete Buim\n",
       "             ...       \n",
       "1041            Kalen L\n",
       "1042     Kthrine Leeone\n",
       "1043        IbrehimuSku\n",
       "1044    Mildlo Ganfield\n",
       "1045          Dehba Yon\n",
       "Name: Name, Length: 1046, dtype: object"
      ]
     },
     "execution_count": 5,
     "metadata": {},
     "output_type": "execute_result"
    }
   ],
   "source": [
    "Dictionary_Defuzzified_PD['Clubs_data.csv']['Name']"
   ]
  },
  {
   "cell_type": "code",
   "execution_count": null,
   "metadata": {},
   "outputs": [],
   "source": [
    "for i in Dictionary_Fuzzified_PD:\n",
    "    Dictionary_Defuzzified_PD[i] = Defuzzify(Dictionary_Fuzzified_PD[i].copy(),Original_Metadata)"
   ]
  },
  {
   "cell_type": "code",
   "execution_count": 7,
   "metadata": {},
   "outputs": [
    {
     "name": "stdout",
     "output_type": "stream",
     "text": [
      "0        Darien Martens\n",
      "1          Sage Schrock\n",
      "2          Alison Mcvey\n",
      "3        Kiara Jauregui\n",
      "4             Tate Blum\n",
      "             ...       \n",
      "1041        Kalen Logan\n",
      "1042     Kathrine Leone\n",
      "1043        Ibrahim Sun\n",
      "1044    Milo Greenfield\n",
      "1045        Daisha Yoon\n",
      "Name: Name, Length: 1046, dtype: object\n",
      "0          Starr Hammond\n",
      "1            Aylin Seals\n",
      "2      Sebastien Hickman\n",
      "3       Gretchen Clawson\n",
      "4         Evelin Bradley\n",
      "5     Delanie Gilbertson\n",
      "6        River Feliciano\n",
      "7           Leona Cabral\n",
      "8            Aya Kennedy\n",
      "9         Abdullah Horst\n",
      "10       Stephon Burnett\n",
      "11        Perry Perryman\n",
      "12           Daria Daily\n",
      "13         Malika Garber\n",
      "14             Jordi Tam\n",
      "15         Amaiya Solano\n",
      "16      Rashawn Balderas\n",
      "17       Blaine Mckenzie\n",
      "18        Ashanti Koenig\n",
      "19        Zoie McDermott\n",
      "Name: Name, dtype: object\n",
      "0          Jayna Rowley\n",
      "1          Candy Duenas\n",
      "2        Jaquelin Duran\n",
      "3       Kaliyah Hidalgo\n",
      "4           Elaine Sell\n",
      "             ...       \n",
      "4764    Candace Barkley\n",
      "4765    Debra Clevenger\n",
      "4766      Theron Stroud\n",
      "4767      Amber Rudolph\n",
      "4768      Jadon Vandyke\n",
      "Name: Name, Length: 4769, dtype: object\n"
     ]
    }
   ],
   "source": [
    "for i in Dictionary_Fuzzified_PD:\n",
    "    print(Dictionary_Defuzzified_PD[i]['Name'])"
   ]
  },
  {
   "cell_type": "code",
   "execution_count": 8,
   "metadata": {},
   "outputs": [],
   "source": [
    "Defuzzy_Path = 'defuzzy_csv'\n",
    "shutil.rmtree(Defuzzy_Path,ignore_errors=True)   \n",
    "os.makedirs(Defuzzy_Path) \n",
    "for i in Dictionary_Defuzzified_PD:\n",
    "    Dictionary_Defuzzified_PD[i].to_csv(Defuzzy_Path+'/'+i, index=False)"
   ]
  },
  {
   "cell_type": "code",
   "execution_count": 12,
   "metadata": {},
   "outputs": [
    {
     "name": "stdout",
     "output_type": "stream",
     "text": [
      "defuzzy_csv\n",
      "     Club_Name             Name           Event         Role\n",
      "0       club_3   Darien Martens  club_3_event_2  Participant\n",
      "1       club_2     Sage Schrock  club_2_event_1  Participant\n",
      "2       club_3     Alison Mcvey  club_3_event_2  Participant\n",
      "3       club_1   Kiara Jauregui  club_1_event_1  Participant\n",
      "4       club_2        Tate Blum  club_2_event_3  Participant\n",
      "...        ...              ...             ...          ...\n",
      "1041    club_3      Kalen Logan  club_3_event_2  organiser_3\n",
      "1042    club_3   Kathrine Leone  club_3_event_3  organiser_1\n",
      "1043    club_1      Ibrahim Sun  club_1_event_2  Participant\n",
      "1044    club_1  Milo Greenfield  club_1_event_2  Participant\n",
      "1045    club_1      Daisha Yoon  club_1_event_2  Participant\n",
      "\n",
      "[1046 rows x 4 columns]\n"
     ]
    }
   ],
   "source": [
    "import pandas as pd\n",
    "#Sorting Data\n",
    "def Sorting_CSV(SourceCSV):\n",
    "    sortread = pd.read_csv(Defuzzy_Path+'/'+SourceCSV)\n",
    "    print(Defuzzy_Path)\n",
    "    print(sortread)\n",
    "    sortread.sort_values([\"Name\"],axis=0,ascending=[True],inplace=True)\n",
    "    sortread.to_csv(Defuzzy_Path+'/'+SourceCSV,index=False)\n",
    "\n",
    "\n",
    "Sorting_CSV(\"Clubs_data.csv\")"
   ]
  },
  {
   "cell_type": "code",
   "execution_count": null,
   "metadata": {},
   "outputs": [],
   "source": []
  }
 ],
 "metadata": {
  "kernelspec": {
   "display_name": "Python 3.10.7 64-bit",
   "language": "python",
   "name": "python3"
  },
  "language_info": {
   "codemirror_mode": {
    "name": "ipython",
    "version": 3
   },
   "file_extension": ".py",
   "mimetype": "text/x-python",
   "name": "python",
   "nbconvert_exporter": "python",
   "pygments_lexer": "ipython3",
   "version": "3.10.7"
  },
  "orig_nbformat": 4,
  "vscode": {
   "interpreter": {
    "hash": "b0fa6594d8f4cbf19f97940f81e996739fb7646882a419484c72d19e05852a7e"
   }
  }
 },
 "nbformat": 4,
 "nbformat_minor": 2
}
